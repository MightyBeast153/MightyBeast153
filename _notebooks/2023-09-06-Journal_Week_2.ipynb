{
 "cells": [
  {
   "cell_type": "code",
   "execution_count": null,
   "metadata": {},
   "outputs": [],
   "source": [
    "---\n",
    "toc: true\n",
    "comments: false\n",
    "layout: post\n",
    "title: Plan for week 2\n",
    "description: Plan for week 2\n",
    "type: plans\n",
    "courses: { compsci: {week: 2} }\n",
    "---"
   ]
  },
  {
   "cell_type": "markdown",
   "metadata": {},
   "source": [
    "## The plan for this week\n",
    "\n",
    "Day 1: Work on snake game\n",
    "\n",
    "Day 2: Review bash commands\n",
    "\n",
    "Day 3: Get prepared for live review\n",
    "\n",
    "Day 4: Read over and understand what's going to be on the pair showcase\n",
    "\n",
    "Day 5: Do some final codes and fixes"
   ]
  }
 ],
 "metadata": {
  "language_info": {
   "name": "python"
  },
  "orig_nbformat": 4
 },
 "nbformat": 4,
 "nbformat_minor": 2
}
