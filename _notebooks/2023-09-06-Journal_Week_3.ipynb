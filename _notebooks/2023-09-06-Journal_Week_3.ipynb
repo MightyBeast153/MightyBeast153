{
 "cells": [
  {
   "cell_type": "code",
   "execution_count": null,
   "metadata": {},
   "outputs": [],
   "source": [
    "---\n",
    "toc: true\n",
    "comments: false\n",
    "layout: post\n",
    "title: Week 3 Plan\n",
    "description: Plan for week 3\n",
    "type: plans\n",
    "courses: { compsci: {week: 3} }\n",
    "---"
   ]
  },
  {
   "cell_type": "markdown",
   "metadata": {},
   "source": [
    "## Plan for this week\n",
    "\n",
    "Day 1: Work on snake game and change color of apple and snake\n",
    "\n",
    "Day 2: Work on changing background of snake and making a few modifications\n",
    "\n",
    "Day 3: Do live reviews\n",
    "\n",
    "Day 4: Pair showcase?"
   ]
  }
 ],
 "metadata": {
  "language_info": {
   "name": "python"
  },
  "orig_nbformat": 4
 },
 "nbformat": 4,
 "nbformat_minor": 2
}
