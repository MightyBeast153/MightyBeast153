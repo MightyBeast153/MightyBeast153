{
 "cells": [
  {
   "cell_type": "code",
   "execution_count": null,
   "metadata": {},
   "outputs": [],
   "source": [
    "---\n",
    "toc: true\n",
    "comments: false\n",
    "layout: post\n",
    "title: Review Ticket Week 3\n",
    "description: Main concepts I grasped from this week\n",
    "courses: { compsci: {week: 3} }\n",
    "type: tangibles\n",
    "---"
   ]
  },
  {
   "cell_type": "markdown",
   "metadata": {},
   "source": [
    "- Learned how to make a markdown table, made a table for GPU's including their make, model, and year.\n",
    "\n",
    "- Changed snake game, made snake green, apple red, and background dark blue.\n",
    "\n",
    "- Made snake game WASD and made it so that the page doesn't scroll up and down when moving the snake.\n",
    "\n",
    "- Added my review ticket for last week that I didn't do.\n",
    "\n",
    "- Messed with a very basic HTML function which can be shown below."
   ]
  },
  {
   "cell_type": "code",
   "execution_count": 17,
   "metadata": {},
   "outputs": [
    {
     "data": {
      "text/html": [
       "<html>\n",
       "    <head>\n",
       "        <style>\n",
       "            #output {\n",
       "                background-color: #000000;\n",
       "                padding: 10px;\n",
       "                border: 3px solid #ccc;\n",
       "            }\n",
       "        </style>\n",
       "    </head>\n",
       "    <body>\n",
       "        <div id=\"output\">\n",
       "            Hello! This text is an example to show this code worked.\n",
       "        </div>\n",
       "    </body>\n",
       "</html>\n"
      ],
      "text/plain": [
       "<IPython.core.display.HTML object>"
      ]
     },
     "metadata": {},
     "output_type": "display_data"
    }
   ],
   "source": [
    "%%html\n",
    "<html>\n",
    "    <head>\n",
    "        <style>\n",
    "            #output {\n",
    "                background-color: #000000;\n",
    "                padding: 10px;\n",
    "                border: 3px solid #ccc;\n",
    "            }\n",
    "        </style>\n",
    "    </head>\n",
    "    <body>\n",
    "        <div id=\"output\">\n",
    "            Hello! This text is an example to show this code worked.\n",
    "        </div>\n",
    "    </body>\n",
    "</html>"
   ]
  }
 ],
 "metadata": {
  "kernelspec": {
   "display_name": "Python 3",
   "language": "python",
   "name": "python3"
  },
  "language_info": {
   "codemirror_mode": {
    "name": "ipython",
    "version": 3
   },
   "file_extension": ".py",
   "mimetype": "text/x-python",
   "name": "python",
   "nbconvert_exporter": "python",
   "pygments_lexer": "ipython3",
   "version": "3.11.4"
  },
  "orig_nbformat": 4
 },
 "nbformat": 4,
 "nbformat_minor": 2
}
