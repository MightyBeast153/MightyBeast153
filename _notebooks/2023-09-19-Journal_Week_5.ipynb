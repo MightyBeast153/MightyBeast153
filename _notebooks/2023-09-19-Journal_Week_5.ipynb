{
 "cells": [
  {
   "cell_type": "code",
   "execution_count": null,
   "metadata": {},
   "outputs": [],
   "source": [
    "---\n",
    "toc: true\n",
    "comments: false\n",
    "layout: post\n",
    "title: Plan for week 5\n",
    "description: The plan for this week\n",
    "courses: { compsci: {week: 5} }\n",
    "type: plans\n",
    "---"
   ]
  },
  {
   "cell_type": "markdown",
   "metadata": {},
   "source": [
    "## The Plan for This Week\n",
    "\n",
    "- Tuesday: \n",
    "- Work day finish up Calculator work\n",
    "\n",
    "- Wednesday:\n",
    "- Find a Sprite Tech Talk, Live Reviews\n",
    "\n",
    "- Thursday: \n",
    "- JS Sprite Animation Tech Talk\n",
    "\n",
    "- Friday:\n",
    "- Web Programming Basic, Next Assignment and Objectives"
   ]
  }
 ],
 "metadata": {
  "language_info": {
   "name": "python"
  },
  "orig_nbformat": 4
 },
 "nbformat": 4,
 "nbformat_minor": 2
}
