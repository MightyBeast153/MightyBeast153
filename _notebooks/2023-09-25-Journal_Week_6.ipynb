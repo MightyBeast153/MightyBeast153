{
 "cells": [
  {
   "cell_type": "code",
   "execution_count": null,
   "metadata": {},
   "outputs": [],
   "source": [
    "---\n",
    "toc: true\n",
    "comments: false\n",
    "layout: post\n",
    "title: Plan for week 6\n",
    "description: The plan for this week\n",
    "courses: { compsci: {week: 6} }\n",
    "type: plans\n",
    "---"
   ]
  },
  {
   "cell_type": "markdown",
   "metadata": {},
   "source": [
    "## The plan for this week\n",
    "\n",
    "M - Web Programming Basic Test, build this into individual Time Box.  A higher than .9 test grade is applying test examples to a future game design or idea. Meaning, make examples in test relevant to your Sprite or Animation game ideas.\n",
    "Tu - Plans ’till End of Trimester.\n",
    "W - Mario Animation, a second technique with left movement and different frame lengths for animation\n",
    "Th - Work Day, short day\n",
    "F - Web Programming Basic Test grading w/ first animations.   3rd period will have Self Grade, Peer Grade, Team Grade, and TA Grade prior to showing results to Teacher.  4th period will have Self Grade, Peer Grade and Team Grade prior to showing results to Teacher.  An Issue with comments from each grader is required.\n",
    "\n",
    "- Tue"
   ]
  }
 ],
 "metadata": {
  "language_info": {
   "name": "python"
  },
  "orig_nbformat": 4
 },
 "nbformat": 4,
 "nbformat_minor": 2
}
