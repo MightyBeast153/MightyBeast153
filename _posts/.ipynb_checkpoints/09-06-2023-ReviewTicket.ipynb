{
 "cells": [
  {
   "cell_type": "markdown",
   "metadata": {},
   "source": [
    "## All Useful Commands\n",
    ">>cd - enter a new directory <br>\n",
    ">>ls - list in directory <br>\n",
    ">>mkdir - Make new directory <br>\n",
    ">>make - Run local server <br>\n",
    ">>make clean - clean the converted files <br>\n",
    ">>pwd - print working directory <br>\n",
    ">>echo - used to display line of text/string that are passed as an argument <br>\n",
    ">>if statements - Code inside if statements only run if the condition is met <br>"
   ]
  },
  {
   "cell_type": "markdown",
   "metadata": {},
   "source": [
    "## Markdown Code\n",
    ">>br - break line <br>\n",
    ">>\"#\" - title <br>\n",
    ">>\">\" - indent"
   ]
  }
 ],
 "metadata": {
  "language_info": {
   "name": "python"
  },
  "orig_nbformat": 4
 },
 "nbformat": 4,
 "nbformat_minor": 2
}
